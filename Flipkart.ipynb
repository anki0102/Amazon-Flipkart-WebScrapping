{
 "cells": [
  {
   "cell_type": "markdown",
   "id": "432f010f",
   "metadata": {},
   "source": [
    "# Problem =1"
   ]
  },
  {
   "cell_type": "code",
   "execution_count": 240,
   "id": "da6e1f71",
   "metadata": {},
   "outputs": [],
   "source": [
    "import selenium\n",
    "import pandas as pd\n",
    "from selenium import webdriver\n",
    "import  time\n",
    "from selenium.common.exceptions import NoSuchElementException, ElementNotVisibleException,StaleElementReferenceException"
   ]
  },
  {
   "cell_type": "code",
   "execution_count": 260,
   "id": "5fa4c592",
   "metadata": {},
   "outputs": [],
   "source": [
    "#First we will connect to webdriver\n",
    "driver=webdriver.Chrome(r'/Users/ankit/chromedriver')\n",
    "#Open the webpage with webdriver\n",
    "driver.get('https://www.flipkart.com/')"
   ]
  },
  {
   "cell_type": "code",
   "execution_count": 261,
   "id": "6d6cdd77",
   "metadata": {},
   "outputs": [],
   "source": [
    "##inserting elements for search bar (default filter Featured)\n",
    "search_bar=driver.find_element_by_xpath(\"//input[@class='_3704LK']\")\n",
    "search_bar.send_keys('Laptop')\n",
    "search_button=driver.find_element_by_xpath(\"//button[@class='L0Z3Pu']\").click()"
   ]
  },
  {
   "cell_type": "code",
   "execution_count": 262,
   "id": "8f827e9f",
   "metadata": {},
   "outputs": [],
   "source": [
    "#We will extract href of all smartphone on 1st page and store it in a list 'URL'\n",
    "URL=[]\n",
    "urls=driver.find_elements_by_xpath(\"//div[@class='_1AtVbE col-12-12']/div/div/div/a\")\n",
    "for i in urls:\n",
    "    URL.append(i.get_attribute('href'))"
   ]
  },
  {
   "cell_type": "code",
   "execution_count": 263,
   "id": "c9b62da6",
   "metadata": {},
   "outputs": [],
   "source": [
    "#Create empty list to store scrapped data.\n",
    "NAME=[]\n",
    "SOURCE=[]\n",
    "PRICE=[]\n",
    "DELI=[]\n",
    "SOLD=[]\n",
    "EMI=[]\n",
    "REV=[]\n",
    "RATING=[]"
   ]
  },
  {
   "cell_type": "code",
   "execution_count": 264,
   "id": "56e07d54",
   "metadata": {},
   "outputs": [],
   "source": [
    "#We extract desired data in text form and store it in respective lists.\n",
    "for j in URL:\n",
    "    driver.get(j)\n",
    "   \n",
    "    try:\n",
    "        name=driver.find_element_by_xpath(\"//div[@class='_1YokD2 _3Mn1Gg col-8-12']/div[2]/div[1]/div[1]/h1[1]/span\")\n",
    "        NAME.append(name.text)\n",
    "    except NoSuchElementException:\n",
    "        NAME.append('--')\n",
    "    try:\n",
    "        source=driver.find_element_by_xpath(\"//div[@class='_2NKhZn _1U1qnR']/p[1]\")\n",
    "        SOURCE.append(source.text)\n",
    "    except NoSuchElementException:\n",
    "        SOURCE.append('--')    \n",
    "    try:\n",
    "        price=driver.find_element_by_xpath(\"//div[@class='_30jeq3 _16Jk6d']\")\n",
    "        PRICE.append(price.text)  \n",
    "    except NoSuchElementException :\n",
    "        PRICE.append('--') \n",
    "    \n",
    "    try:\n",
    "        deli=driver.find_element_by_xpath(\"//div[@class='_20XEBf']\")\n",
    "        DELI.append(deli.text)\n",
    "    except NoSuchElementException : \n",
    "        DELI.append('--')\n",
    "\n",
    "    try:\n",
    "        sold=driver.find_element_by_xpath(\"//div[@class='_2JC05C']\")\n",
    "        SOLD.append(sold.text)\n",
    "    except NoSuchElementException : \n",
    "        SOLD.append('Available')\n",
    "    try:\n",
    "        emi=driver.find_element_by_xpath(\"//span[@class='_3j4Zjq row']\")\n",
    "        EMI.append(emi.text)\n",
    "    except NoSuchElementException : \n",
    "        EMI.append('--')\n",
    "    try:\n",
    "        rev=driver.find_element_by_xpath(\"//div[@class='t-ZTKy']\")\n",
    "        REV.append(rev.text)\n",
    "    except NoSuchElementException : \n",
    "        REV.append('--')\n",
    "    try:\n",
    "        rating=driver.find_element_by_xpath(\"//div[@class='col-4-12']\")\n",
    "        RATING.append(rating.text)\n",
    "    except NoSuchElementException : \n",
    "        RATING.append('--')"
   ]
  },
  {
   "cell_type": "code",
   "execution_count": 265,
   "id": "b2c006b2",
   "metadata": {},
   "outputs": [],
   "source": [
    "import pandas as pd\n",
    "Laptop=pd.DataFrame()\n",
    "\n",
    "Laptop['NAME']=NAME[:]\n",
    "Laptop['Source']=SOURCE[:]\n",
    "Laptop['Price']=PRICE[:]\n",
    "Laptop['Delivery Time']=DELI[:]\n",
    "Laptop['Stock_Avaibility']=SOLD[:]\n",
    "Laptop['Offers']=EMI[:]\n",
    "Laptop['No._of_Reviews']=REV[:]\n",
    "Laptop['Rating']=RATING[:]\n",
    "Laptop['Product_URL']=URL[:]\n"
   ]
  },
  {
   "cell_type": "code",
   "execution_count": 153,
   "id": "a91482c8",
   "metadata": {},
   "outputs": [],
   "source": [
    "#making a csv file\n",
    "\n",
    "Laptop.to_csv('Flipkart.csv',encoding='utf-8')\n",
    "Laptop= pd.read_csv('Flipkart.csv')"
   ]
  },
  {
   "cell_type": "markdown",
   "id": "da143ec9",
   "metadata": {},
   "source": [
    "# Problem2"
   ]
  },
  {
   "cell_type": "code",
   "execution_count": 250,
   "id": "59b12f61",
   "metadata": {},
   "outputs": [],
   "source": [
    "#First we will connect to webdriver\n",
    "driver=webdriver.Chrome(r'/Users/ankit/chromedriver')\n",
    "#Open the webpage with webdriver\n",
    "driver.get('https://www.flipkart.com/')"
   ]
  },
  {
   "cell_type": "code",
   "execution_count": 251,
   "id": "d03201b7",
   "metadata": {},
   "outputs": [],
   "source": [
    "##Finding elements for search bar\n",
    "search_bar=driver.find_element_by_xpath(\"//input[@class='_3704LK']\")\n",
    "search_bar.send_keys('Laptop')\n",
    "search_button=driver.find_element_by_xpath(\"//button[@class='L0Z3Pu']\").click()"
   ]
  },
  {
   "cell_type": "code",
   "execution_count": 252,
   "id": "6370fad9",
   "metadata": {},
   "outputs": [],
   "source": [
    "#selecting the Price High To low filter buttons through .click()\n",
    "\n",
    "search_button= driver.find_element_by_xpath('//*[@id=\"container\"]/div/div[3]/div[1]/div[2]/div[1]/div/div/div[2]/div[4]')\n",
    "search_button.click()"
   ]
  },
  {
   "cell_type": "code",
   "execution_count": 253,
   "id": "0d50bc25",
   "metadata": {},
   "outputs": [],
   "source": [
    "#We will extract href of all smartphone on 1st page and store it in a list 'URL'\n",
    "URL=[]\n",
    "urls=driver.find_elements_by_xpath(\"//div[@class='_1AtVbE col-12-12']/div/div/div/a\")\n",
    "for i in urls:\n",
    "    URL.append(i.get_attribute('href'))"
   ]
  },
  {
   "cell_type": "code",
   "execution_count": 254,
   "id": "edfdd71a",
   "metadata": {},
   "outputs": [],
   "source": [
    "#Create empty list to store scrapped data.\n",
    "NAME=[]\n",
    "SOURCE=[]\n",
    "PRICE=[]\n",
    "DELI=[]\n",
    "SOLD=[]\n",
    "EMI=[]\n",
    "REV=[]\n",
    "RATING=[]"
   ]
  },
  {
   "cell_type": "code",
   "execution_count": 255,
   "id": "a0266aae",
   "metadata": {},
   "outputs": [],
   "source": [
    "#We extract desired data in text form and store it in respective lists.\n",
    "for j in URL:\n",
    "    driver.get(j)\n",
    "   \n",
    "    try:\n",
    "        name=driver.find_element_by_xpath(\"//div[@class='_1YokD2 _3Mn1Gg col-8-12']/div[2]/div[1]/div[1]/h1[1]/span\")\n",
    "        NAME.append(name.text)\n",
    "    except NoSuchElementException:\n",
    "        NAME.append('--')\n",
    "    try:\n",
    "        source=driver.find_element_by_xpath(\"//div[@class='_2NKhZn _1U1qnR']/p[1]\")\n",
    "        SOURCE.append(source.text)\n",
    "    except NoSuchElementException:\n",
    "        SOURCE.append('--')   \n",
    "    try:\n",
    "        price=driver.find_element_by_xpath(\"//div[@class='_30jeq3 _16Jk6d']\")\n",
    "        PRICE.append(price.text)  \n",
    "    except NoSuchElementException :\n",
    "        PRICE.append('--') \n",
    "    \n",
    "    try:\n",
    "        deli=driver.find_element_by_xpath(\"//div[@class='_20XEBf']\")\n",
    "        DELI.append(deli.text)\n",
    "    except NoSuchElementException : \n",
    "        DELI.append('--')\n",
    "\n",
    "    try:\n",
    "        sold=driver.find_element_by_xpath(\"//div[@class='_2JC05C']\")\n",
    "        SOLD.append(sold.text)\n",
    "    except NoSuchElementException : \n",
    "        SOLD.append('Available')\n",
    "    try:\n",
    "        emi=driver.find_element_by_xpath(\"//span[@class='_3j4Zjq row']\")\n",
    "        EMI.append(emi.text)\n",
    "    except NoSuchElementException : \n",
    "        EMI.append('--')\n",
    "    try:\n",
    "        rev=driver.find_element_by_xpath(\"//div[@class='t-ZTKy']\")\n",
    "        REV.append(rev.text)\n",
    "    except NoSuchElementException : \n",
    "        REV.append('--')\n",
    "    try:\n",
    "        rating=driver.find_element_by_xpath(\"//div[@class='col-4-12']\")\n",
    "        RATING.append(rating.text)\n",
    "    except NoSuchElementException : \n",
    "        RATING.append('--')"
   ]
  },
  {
   "cell_type": "code",
   "execution_count": 257,
   "id": "c979dda9",
   "metadata": {},
   "outputs": [],
   "source": [
    "import pandas as pd\n",
    "Laptop=pd.DataFrame()\n",
    "\n",
    "Laptop['NAME']=NAME[:]\n",
    "Laptop['Source']=SOURCE[:]\n",
    "Laptop['Price']=PRICE[:]\n",
    "Laptop['Delivery Time']=DELI[:]\n",
    "Laptop['Stock_Avaibility']=SOLD[:]\n",
    "Laptop['Offers']=EMI[:]\n",
    "Laptop['No._of_Reviews']=REV[:]\n",
    "Laptop['Rating']=RATING[:]\n",
    "Laptop['Product_URL']=URL[:]"
   ]
  },
  {
   "cell_type": "code",
   "execution_count": 259,
   "id": "7b519d66",
   "metadata": {},
   "outputs": [],
   "source": [
    "#making a csv file\n",
    "\n",
    "Laptop.to_csv('Flipkart1.csv',encoding='utf-8')\n",
    "Laptop= pd.read_csv('Flipkart1.csv')"
   ]
  },
  {
   "cell_type": "markdown",
   "id": "6f52e1ed",
   "metadata": {},
   "source": [
    "# Problem 3"
   ]
  },
  {
   "cell_type": "code",
   "execution_count": 267,
   "id": "ad40768b",
   "metadata": {},
   "outputs": [],
   "source": [
    "#First we will connect to webdriver\n",
    "driver=webdriver.Chrome(r'/Users/ankit/chromedriver')\n",
    "#Open the webpage with webdriver\n",
    "driver.get('https://www.flipkart.com/')"
   ]
  },
  {
   "cell_type": "code",
   "execution_count": 268,
   "id": "528e7bfc",
   "metadata": {},
   "outputs": [],
   "source": [
    "##Finding elements for search bar\n",
    "search_bar=driver.find_element_by_xpath(\"//input[@class='_3704LK']\")\n",
    "search_bar.send_keys('Laptop')\n",
    "search_button=driver.find_element_by_xpath(\"//button[@class='L0Z3Pu']\").click()"
   ]
  },
  {
   "cell_type": "code",
   "execution_count": 269,
   "id": "afe86fc4",
   "metadata": {},
   "outputs": [],
   "source": [
    "#selecting the Newest first buttons through .click()\n",
    "\n",
    "search_button= driver.find_element_by_xpath('//*[@id=\"container\"]/div/div[3]/div[1]/div[2]/div[1]/div/div/div[2]/div[5]')\n",
    "search_button.click()"
   ]
  },
  {
   "cell_type": "code",
   "execution_count": 270,
   "id": "20573096",
   "metadata": {},
   "outputs": [],
   "source": [
    "#selecting the  No cost Emi buttons through .click()\n",
    "\n",
    "search_button= driver.find_element_by_xpath('/html/body/div/div/div[3]/div[1]/div[1]/div/div[1]/div/section[26]/div[2]/div/div[2]')\n",
    "search_button.click()\n",
    "  "
   ]
  },
  {
   "cell_type": "code",
   "execution_count": 271,
   "id": "30a983b2",
   "metadata": {},
   "outputs": [],
   "source": [
    "#selecting the 4+ ratings  buttons through .click()\n",
    "\n",
    "search_button= driver.find_element_by_xpath('/html/body/div/div/div[3]/div[1]/div[1]/div/div[1]/div/section[16]/div[2]/div/div[1]')\n",
    "search_button.click()"
   ]
  },
  {
   "cell_type": "code",
   "execution_count": 272,
   "id": "f97df3bb",
   "metadata": {},
   "outputs": [],
   "source": [
    "#We will extract href of all smartphone on 1st page and store it in a list 'URL'\n",
    "URL=[]\n",
    "urls=driver.find_elements_by_xpath(\"//div[@class='_1AtVbE col-12-12']/div/div/div/a\")\n",
    "for i in urls:\n",
    "    URL.append(i.get_attribute('href'))"
   ]
  },
  {
   "cell_type": "code",
   "execution_count": 273,
   "id": "f2ea4ceb",
   "metadata": {},
   "outputs": [],
   "source": [
    "#Create empty list to store scrapped data.\n",
    "NAME=[]\n",
    "SOURCE=[]\n",
    "PRICE=[]\n",
    "DELI=[]\n",
    "SOLD=[]\n",
    "EMI=[]\n",
    "REV=[]\n",
    "RATING=[]"
   ]
  },
  {
   "cell_type": "code",
   "execution_count": 274,
   "id": "afc6c9d8",
   "metadata": {},
   "outputs": [],
   "source": [
    "#We extract desired data in text form and store it in respective lists.\n",
    "for j in URL:\n",
    "    driver.get(j)\n",
    "   \n",
    "    try:\n",
    "        name=driver.find_element_by_xpath(\"//div[@class='_1YokD2 _3Mn1Gg col-8-12']/div[2]/div[1]/div[1]/h1[1]/span\")\n",
    "        NAME.append(name.text)\n",
    "    except NoSuchElementException:\n",
    "        NAME.append('--')\n",
    "    try:\n",
    "        source=driver.find_element_by_xpath(\"//div[@class='_2NKhZn _1U1qnR']/p[1]\")\n",
    "        SOURCE.append(source.text)\n",
    "    except NoSuchElementException:\n",
    "        SOURCE.append('--')   \n",
    "    try:\n",
    "        price=driver.find_element_by_xpath(\"//div[@class='_30jeq3 _16Jk6d']\")\n",
    "        PRICE.append(price.text)  \n",
    "    except NoSuchElementException :\n",
    "        PRICE.append('--') \n",
    "    \n",
    "    try:\n",
    "        deli=driver.find_element_by_xpath(\"//div[@class='_20XEBf']\")\n",
    "        DELI.append(deli.text)\n",
    "    except NoSuchElementException : \n",
    "        DELI.append('--')\n",
    "\n",
    "    try:\n",
    "        sold=driver.find_element_by_xpath(\"//div[@class='_2JC05C']\")\n",
    "        SOLD.append(sold.text)\n",
    "    except NoSuchElementException : \n",
    "        SOLD.append('Available')\n",
    "    try:\n",
    "        emi=driver.find_element_by_xpath(\"//span[@class='_3j4Zjq row']\")\n",
    "        EMI.append(emi.text)\n",
    "    except NoSuchElementException : \n",
    "        EMI.append('--')\n",
    "    try:\n",
    "        rev=driver.find_element_by_xpath(\"//div[@class='t-ZTKy']\")\n",
    "        REV.append(rev.text)\n",
    "    except NoSuchElementException : \n",
    "        REV.append('--')\n",
    "    try:\n",
    "        rating=driver.find_element_by_xpath(\"//div[@class='col-4-12']\")\n",
    "        RATING.append(rating.text)\n",
    "    except NoSuchElementException : \n",
    "        RATING.append('--')"
   ]
  },
  {
   "cell_type": "code",
   "execution_count": 275,
   "id": "1f37a25e",
   "metadata": {},
   "outputs": [],
   "source": [
    "import pandas as pd\n",
    "Laptop=pd.DataFrame()\n",
    "\n",
    "Laptop['NAME']=NAME[:]\n",
    "Laptop['Source']=SOURCE[:]\n",
    "Laptop['Price']=PRICE[:]\n",
    "Laptop['Delivery Time']=DELI[:]\n",
    "Laptop['Stock_Avaibility']=SOLD[:]\n",
    "Laptop['Offers']=EMI[:]\n",
    "Laptop['No._of_Reviews']=REV[:]\n",
    "Laptop['Rating']=RATING[:]\n",
    "Laptop['Product_URL']=URL[:]"
   ]
  },
  {
   "cell_type": "code",
   "execution_count": 277,
   "id": "d9fdd636",
   "metadata": {},
   "outputs": [],
   "source": [
    "#making a csv file\n",
    "\n",
    "Laptop.to_csv('Flipkart2.csv',encoding='utf-8')\n",
    "Laptop= pd.read_csv('Flipkart2.csv')"
   ]
  }
 ],
 "metadata": {
  "kernelspec": {
   "display_name": "Python 3",
   "language": "python",
   "name": "python3"
  },
  "language_info": {
   "codemirror_mode": {
    "name": "ipython",
    "version": 3
   },
   "file_extension": ".py",
   "mimetype": "text/x-python",
   "name": "python",
   "nbconvert_exporter": "python",
   "pygments_lexer": "ipython3",
   "version": "3.8.8"
  }
 },
 "nbformat": 4,
 "nbformat_minor": 5
}
