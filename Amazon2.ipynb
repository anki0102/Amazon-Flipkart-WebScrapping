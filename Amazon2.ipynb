{
 "cells": [
  {
   "cell_type": "markdown",
   "id": "43951a46",
   "metadata": {},
   "source": [
    "# AMAZON \n",
    "PROBLEM = 1"
   ]
  },
  {
   "cell_type": "code",
   "execution_count": 77,
   "id": "309830c1",
   "metadata": {},
   "outputs": [],
   "source": [
    "import selenium\n",
    "import pandas as pd\n",
    "from selenium import webdriver\n",
    "import  time\n",
    "from selenium.common.exceptions import NoSuchElementException, ElementNotVisibleException,StaleElementReferenceException"
   ]
  },
  {
   "cell_type": "code",
   "execution_count": 78,
   "id": "920dd0fe",
   "metadata": {},
   "outputs": [],
   "source": [
    "#First we will connect to webdriver\n",
    "driver=webdriver.Chrome(r'/Users/ankit/chromedriver')\n",
    "#Open the webpage with webdriver\n",
    "driver.get('https://www.amazon.in/')"
   ]
  },
  {
   "cell_type": "code",
   "execution_count": 79,
   "id": "875a9e6d",
   "metadata": {},
   "outputs": [],
   "source": [
    "#Inserting elements for search bar  (default filter Featured)\n",
    "search_job=driver.find_element_by_xpath(\"//input[@class='nav-input nav-progressive-attribute']\")\n",
    "search_job.send_keys('Laptop')\n",
    "search_button=driver.find_element_by_xpath(\"//div[@class='nav-right']/div/span/input\")\n",
    "search_button.click()"
   ]
  },
  {
   "cell_type": "code",
   "execution_count": 80,
   "id": "6cd3e20d",
   "metadata": {},
   "outputs": [],
   "source": [
    "# Getting href of all products \n",
    "URL=[]\n",
    "urls=driver.find_elements_by_xpath(\"//a[@class='a-link-normal s-underline-text s-underline-link-text s-link-style a-text-normal']\")\n",
    "for i in urls:\n",
    "    URL.append(i.get_attribute('href'))"
   ]
  },
  {
   "cell_type": "code",
   "execution_count": 81,
   "id": "42158ed2",
   "metadata": {},
   "outputs": [],
   "source": [
    "#Create empty list to store scrapped data.\n",
    "NAME=[]\n",
    "about=[]\n",
    "PRICE=[]\n",
    "DELI=[]\n",
    "SOLD=[]\n",
    "EMI=[]\n",
    "REV=[]\n",
    "RATING=[]"
   ]
  },
  {
   "cell_type": "code",
   "execution_count": 82,
   "id": "0e6f35d5",
   "metadata": {},
   "outputs": [],
   "source": [
    "#We extract desired data in text form and store it in respective lists.\n",
    "for j in URL:\n",
    "    driver.get(j)\n",
    "    try:\n",
    "        name=driver.find_element_by_id(\"productTitle\")\n",
    "        NAME.append(name.text)\n",
    "    except NoSuchElementException:\n",
    "        NAME.append('--')\n",
    "    try:\n",
    "        ABOUT=driver.find_element_by_id(\"featurebullets_feature_div\")\n",
    "        about.append(ABOUT.text)  \n",
    "    except NoSuchElementException :\n",
    "        about.append('--')     \n",
    "    try:\n",
    "        price=driver.find_element_by_xpath(\"//td[@class='a-span12']/span[1]\")\n",
    "        PRICE.append(price.text)  \n",
    "    except NoSuchElementException :\n",
    "        PRICE.append('--') \n",
    "    try:\n",
    "        deli=driver.find_element_by_id('mir-layout-DELIVERY_BLOCK')\n",
    "        DELI.append(deli.text)\n",
    "    except NoSuchElementException : \n",
    "        DELI.append('--')\n",
    "   \n",
    "    try:\n",
    "        sold=driver.find_element_by_id(\"availability\")\n",
    "        SOLD.append(sold.text)\n",
    "    except NoSuchElementException :\n",
    "        SOLD.append('--')\n",
    "    \n",
    "    try:\n",
    "        emi=driver.find_element_by_id('inemi_feature_div')\n",
    "        EMI.append(emi.text)\n",
    "    except NoSuchElementException : \n",
    "        EMI.append('--')    \n",
    "    try:\n",
    "        rev=driver.find_element_by_id('acrCustomerReviewText')\n",
    "        REV.append(rev.text)\n",
    "    except NoSuchElementException:\n",
    "        REV.append('--')\n",
    "    try:\n",
    "        driver.get(j)\n",
    "        cl=driver.find_element_by_id('acrCustomerReviewText').click()\n",
    "        rating=driver.find_element_by_xpath(\"//span[@class='a-size-medium a-color-base']\")\n",
    "        RATING.append(rating.text)\n",
    "    except NoSuchElementException:\n",
    "        RATING.append(\"--\")"
   ]
  },
  {
   "cell_type": "code",
   "execution_count": 83,
   "id": "01cd1a0a",
   "metadata": {},
   "outputs": [],
   "source": [
    "import pandas as pd\n",
    "Laptop=pd.DataFrame()\n",
    "\n",
    "Laptop['NAME']=NAME[:]\n",
    "Laptop['About']=about[:]\n",
    "Laptop['Price']=PRICE[:]\n",
    "Laptop['Delivery Time']=DELI[:]\n",
    "Laptop['Stock_Avaibility']=SOLD[:]\n",
    "Laptop['Offers']=EMI[:]\n",
    "Laptop['No._of_Reviews']=REV[:]\n",
    "Laptop['Rating']=RATING[:]\n",
    "Laptop['Product_URL']=URL[:]\n"
   ]
  },
  {
   "cell_type": "code",
   "execution_count": 85,
   "id": "52745a4d",
   "metadata": {},
   "outputs": [],
   "source": [
    "#making a csv file\n",
    "Laptop.to_csv('Amazon.csv',encoding='utf-8')\n",
    "Laptop= pd.read_csv('Amazon.csv')\n"
   ]
  },
  {
   "cell_type": "markdown",
   "id": "57e27fa4",
   "metadata": {},
   "source": [
    "# PROBLEM = 2"
   ]
  },
  {
   "cell_type": "code",
   "execution_count": 65,
   "id": "2e75af47",
   "metadata": {},
   "outputs": [],
   "source": [
    "#First we will connect to webdriver\n",
    "driver=webdriver.Chrome(r'/Users/ankit/chromedriver')\n",
    "#Open the webpage with webdriver\n",
    "driver.get('https://www.amazon.in/')"
   ]
  },
  {
   "cell_type": "code",
   "execution_count": 66,
   "id": "4ee470de",
   "metadata": {},
   "outputs": [],
   "source": [
    "#Selecting the Pincode Bar\n",
    "search_button=driver.find_element_by_xpath('//*[@id=\"glow-ingress-block\"]')\n",
    "search_button.click()\n"
   ]
  },
  {
   "cell_type": "code",
   "execution_count": 67,
   "id": "f662a8e4",
   "metadata": {},
   "outputs": [],
   "source": [
    "#inserting the pincode  for search bar\n",
    "search_loc=driver.find_element_by_xpath(\"//input[@class='GLUX_Full_Width a-declarative']\")\n",
    "search_loc.send_keys('400072')\n"
   ]
  },
  {
   "cell_type": "code",
   "execution_count": 68,
   "id": "b2659c6d",
   "metadata": {},
   "outputs": [],
   "source": [
    "# Clicking the button to apply the filter\n",
    "search_button=driver.find_element_by_xpath('//*[@id=\"GLUXZipUpdate\"]/span/input')\n",
    "search_button.click()"
   ]
  },
  {
   "cell_type": "code",
   "execution_count": 69,
   "id": "bf950592",
   "metadata": {},
   "outputs": [],
   "source": [
    "#Finding elements for search bar\n",
    "search_product=driver.find_element_by_xpath(\"//input[@class='nav-input nav-progressive-attribute']\")\n",
    "search_product.send_keys('Laptop')\n",
    "search_button=driver.find_element_by_xpath(\"//div[@class='nav-right']/div/span/input\")\n",
    "search_button.click()"
   ]
  },
  {
   "cell_type": "code",
   "execution_count": 70,
   "id": "8063f517",
   "metadata": {},
   "outputs": [],
   "source": [
    "#selecting the filter button Price high to low through .click()\n",
    "\n",
    "search_button= driver.find_element_by_xpath('//*[@id=\"a-autoid-0-announce\"]')\n",
    "search_button.click()\n",
    "#clicking the filter button priced high to low through .click()\n",
    "\n",
    "search_button= driver.find_element_by_xpath('//*[@id=\"s-result-sort-select_2\"]')\n",
    "search_button.click()\n",
    "    "
   ]
  },
  {
   "cell_type": "code",
   "execution_count": 71,
   "id": "71babc06",
   "metadata": {},
   "outputs": [],
   "source": [
    "# Getting href of all products \n",
    "URL=[]\n",
    "urls=driver.find_elements_by_xpath(\"//a[@class='a-link-normal s-underline-text s-underline-link-text s-link-style a-text-normal']\")\n",
    "for i in urls:\n",
    "    URL.append(i.get_attribute('href'))"
   ]
  },
  {
   "cell_type": "code",
   "execution_count": 72,
   "id": "251b3c9b",
   "metadata": {},
   "outputs": [],
   "source": [
    "#Create empty list to store scrapped data.\n",
    "NAME=[]\n",
    "about=[]\n",
    "PRICE=[]\n",
    "DELI=[]\n",
    "SOLD=[]\n",
    "EMI=[]\n",
    "REV=[]\n",
    "RATING=[]"
   ]
  },
  {
   "cell_type": "code",
   "execution_count": 73,
   "id": "4c441416",
   "metadata": {},
   "outputs": [],
   "source": [
    "#We extract desired data in text form and store it in respective lists.\n",
    "for j in URL:\n",
    "    driver.get(j)\n",
    "    try:\n",
    "        name=driver.find_element_by_id(\"productTitle\")\n",
    "        NAME.append(name.text)\n",
    "    except NoSuchElementException:\n",
    "        NAME.append('--')\n",
    "    try:\n",
    "        ABOUT=driver.find_element_by_id(\"featurebullets_feature_div\")\n",
    "        about.append(ABOUT.text)  \n",
    "    except NoSuchElementException :\n",
    "        about.append('--')     \n",
    "    try:\n",
    "        price=driver.find_element_by_xpath(\"//td[@class='a-span12']/span[1]\")\n",
    "        PRICE.append(price.text)  \n",
    "    except NoSuchElementException :\n",
    "        PRICE.append('--') \n",
    "    try:\n",
    "        deli=driver.find_element_by_id('mir-layout-DELIVERY_BLOCK')\n",
    "        DELI.append(deli.text)\n",
    "    except NoSuchElementException : \n",
    "        DELI.append('--')\n",
    "   \n",
    "    try:\n",
    "        sold=driver.find_element_by_id(\"availability\")\n",
    "        SOLD.append(sold.text)\n",
    "    except NoSuchElementException :\n",
    "        SOLD.append('--')\n",
    "    \n",
    "    try:\n",
    "        emi=driver.find_element_by_id('inemi_feature_div')\n",
    "        EMI.append(emi.text)\n",
    "    except NoSuchElementException : \n",
    "        EMI.append('--')    \n",
    "    try:\n",
    "        rev=driver.find_element_by_id('acrCustomerReviewText')\n",
    "        REV.append(rev.text)\n",
    "    except NoSuchElementException:\n",
    "        REV.append('--')\n",
    "    try:\n",
    "        driver.get(j)\n",
    "        cl=driver.find_element_by_id('acrCustomerReviewText').click()\n",
    "        rating=driver.find_element_by_xpath(\"//span[@class='a-size-medium a-color-base']\")\n",
    "        RATING.append(rating.text)\n",
    "    except NoSuchElementException:\n",
    "        RATING.append(\"--\")"
   ]
  },
  {
   "cell_type": "code",
   "execution_count": 74,
   "id": "88121ad7",
   "metadata": {},
   "outputs": [],
   "source": [
    "import pandas as pd\n",
    "Laptop=pd.DataFrame()\n",
    "\n",
    "Laptop['NAME']=NAME[:]\n",
    "Laptop['About']=about[:]\n",
    "Laptop['Price']=PRICE[:]\n",
    "Laptop['Delivery Time']=DELI[:]\n",
    "Laptop['Stock_Avaibility']=SOLD[:]\n",
    "Laptop['Offers']=EMI[:]\n",
    "Laptop['No._of_Reviews']=REV[:]\n",
    "Laptop['Rating']=RATING[:]\n",
    "Laptop['Product_URL']=URL[:]\n"
   ]
  },
  {
   "cell_type": "code",
   "execution_count": 76,
   "id": "3993d3d7",
   "metadata": {},
   "outputs": [],
   "source": [
    "#making a csv file\n",
    "Laptop.to_csv('Amazon1.csv',encoding='utf-8')\n",
    "Laptop= pd.read_csv('Amazon1.csv')\n"
   ]
  },
  {
   "cell_type": "markdown",
   "id": "26db1253",
   "metadata": {},
   "source": [
    "# PROBLEM = 3"
   ]
  },
  {
   "cell_type": "code",
   "execution_count": 86,
   "id": "f60da63b",
   "metadata": {},
   "outputs": [],
   "source": [
    "#First we will connect to webdriver\n",
    "driver=webdriver.Chrome(r'/Users/ankit/chromedriver')\n",
    "#Open the webpage with webdriver\n",
    "driver.get('https://www.amazon.in/')"
   ]
  },
  {
   "cell_type": "code",
   "execution_count": 87,
   "id": "58788193",
   "metadata": {},
   "outputs": [],
   "source": [
    "#Selecting the Pincode Bar\n",
    "search_button=driver.find_element_by_xpath('//*[@id=\"glow-ingress-block\"]')\n",
    "search_button.click()\n"
   ]
  },
  {
   "cell_type": "code",
   "execution_count": 88,
   "id": "335f40b9",
   "metadata": {},
   "outputs": [],
   "source": [
    "#inserting the pincode  for search bar\n",
    "search_loc=driver.find_element_by_xpath(\"//input[@class='GLUX_Full_Width a-declarative']\")\n",
    "search_loc.send_keys('400072')"
   ]
  },
  {
   "cell_type": "code",
   "execution_count": 89,
   "id": "ac08b0bb",
   "metadata": {},
   "outputs": [],
   "source": [
    "# Clicking the button to apply the filter\n",
    "search_button=driver.find_element_by_xpath('//*[@id=\"GLUXZipUpdate\"]/span/input')\n",
    "search_button.click()\n"
   ]
  },
  {
   "cell_type": "code",
   "execution_count": 90,
   "id": "939049a6",
   "metadata": {},
   "outputs": [],
   "source": [
    "#Finding elements for search bar\n",
    "search_product=driver.find_element_by_xpath(\"//input[@class='nav-input nav-progressive-attribute']\")\n",
    "search_product.send_keys('Laptop')\n",
    "search_button=driver.find_element_by_xpath(\"//div[@class='nav-right']/div/span/input\")\n",
    "search_button.click()"
   ]
  },
  {
   "cell_type": "code",
   "execution_count": 91,
   "id": "dc32bfd0",
   "metadata": {},
   "outputs": [],
   "source": [
    "#selecting the filter buttons new arrivals through .click()\n",
    "\n",
    "search_button= driver.find_element_by_xpath('//*[@id=\"a-autoid-0-announce\"]')\n",
    "search_button.click()\n",
    "#selecting the filter buttons through .click()\n",
    "\n",
    "search_button= driver.find_element_by_xpath('//*[@id=\"s-result-sort-select_4\"]')\n",
    "search_button.click()\n",
    "  "
   ]
  },
  {
   "cell_type": "code",
   "execution_count": 92,
   "id": "8fbc7061",
   "metadata": {},
   "outputs": [],
   "source": [
    "# Getting href of all products \n",
    "URL=[]\n",
    "urls=driver.find_elements_by_xpath(\"//a[@class='a-link-normal s-underline-text s-underline-link-text s-link-style a-text-normal']\")\n",
    "for i in urls:\n",
    "    URL.append(i.get_attribute('href'))"
   ]
  },
  {
   "cell_type": "code",
   "execution_count": 93,
   "id": "c433c984",
   "metadata": {},
   "outputs": [],
   "source": [
    "#Create empty list to store scrapped data.\n",
    "NAME=[]\n",
    "about=[]\n",
    "PRICE=[]\n",
    "DELI=[]\n",
    "SOLD=[]\n",
    "EMI=[]\n",
    "REV=[]\n",
    "RATING=[]"
   ]
  },
  {
   "cell_type": "code",
   "execution_count": 94,
   "id": "205f15b7",
   "metadata": {},
   "outputs": [],
   "source": [
    "#We extract desired data in text form and store it in respective lists.\n",
    "for j in URL:\n",
    "    driver.get(j)\n",
    "    try:\n",
    "        name=driver.find_element_by_id(\"productTitle\")\n",
    "        NAME.append(name.text)\n",
    "    except NoSuchElementException:\n",
    "        NAME.append('--')\n",
    "    try:\n",
    "        ABOUT=driver.find_element_by_id(\"featurebullets_feature_div\")\n",
    "        about.append(ABOUT.text)  \n",
    "    except NoSuchElementException :\n",
    "        about.append('--')     \n",
    "    try:\n",
    "        price=driver.find_element_by_xpath(\"//td[@class='a-span12']/span[1]\")\n",
    "        PRICE.append(price.text)  \n",
    "    except NoSuchElementException :\n",
    "        PRICE.append('--') \n",
    "    try:\n",
    "        deli=driver.find_element_by_id('mir-layout-DELIVERY_BLOCK')\n",
    "        DELI.append(deli.text)\n",
    "    except NoSuchElementException : \n",
    "        DELI.append('--')\n",
    "   \n",
    "    try:\n",
    "        sold=driver.find_element_by_id(\"availability\")\n",
    "        SOLD.append(sold.text)\n",
    "    except NoSuchElementException :\n",
    "        SOLD.append('--')\n",
    "    \n",
    "    try:\n",
    "        emi=driver.find_element_by_id('inemi_feature_div')\n",
    "        EMI.append(emi.text)\n",
    "    except NoSuchElementException : \n",
    "        EMI.append('--')    \n",
    "    try:\n",
    "        rev=driver.find_element_by_id('acrCustomerReviewText')\n",
    "        REV.append(rev.text)\n",
    "    except NoSuchElementException:\n",
    "        REV.append('--')\n",
    "    try:\n",
    "        driver.get(j)\n",
    "        cl=driver.find_element_by_id('acrCustomerReviewText').click()\n",
    "        rating=driver.find_element_by_xpath(\"//span[@class='a-size-medium a-color-base']\")\n",
    "        RATING.append(rating.text)\n",
    "    except NoSuchElementException:\n",
    "        RATING.append(\"--\")"
   ]
  },
  {
   "cell_type": "code",
   "execution_count": 95,
   "id": "2bc54bb6",
   "metadata": {},
   "outputs": [],
   "source": [
    "import pandas as pd\n",
    "Laptop=pd.DataFrame()\n",
    "\n",
    "Laptop['NAME']=NAME[:]\n",
    "Laptop['About']=about[:]\n",
    "Laptop['Price']=PRICE[:]\n",
    "Laptop['Delivery Time']=DELI[:]\n",
    "Laptop['Stock_Avaibility']=SOLD[:]\n",
    "Laptop['Offers']=EMI[:]\n",
    "Laptop['No._of_Reviews']=REV[:]\n",
    "Laptop['Rating']=RATING[:]\n",
    "Laptop['Product_URL']=URL[:]"
   ]
  },
  {
   "cell_type": "code",
   "execution_count": 98,
   "id": "eb354198",
   "metadata": {},
   "outputs": [],
   "source": [
    "#making a csv file\n",
    "Laptop.to_csv('Amazon2.csv',encoding='utf-8')\n",
    "Laptop= pd.read_csv('Amazon2.csv')\n"
   ]
  }
 ],
 "metadata": {
  "kernelspec": {
   "display_name": "Python 3",
   "language": "python",
   "name": "python3"
  },
  "language_info": {
   "codemirror_mode": {
    "name": "ipython",
    "version": 3
   },
   "file_extension": ".py",
   "mimetype": "text/x-python",
   "name": "python",
   "nbconvert_exporter": "python",
   "pygments_lexer": "ipython3",
   "version": "3.8.8"
  }
 },
 "nbformat": 4,
 "nbformat_minor": 5
}
